{
  "nbformat": 4,
  "nbformat_minor": 0,
  "metadata": {
    "colab": {
      "provenance": []
    },
    "kernelspec": {
      "name": "python3",
      "display_name": "Python 3"
    },
    "language_info": {
      "name": "python"
    }
  },
  "cells": [
    {
      "cell_type": "code",
      "execution_count": null,
      "metadata": {
        "id": "3MY894l-F70c"
      },
      "outputs": [],
      "source": [
        "# https://openmv.net/info/travel-times\n",
        "\n",
        "import numpy as np \n",
        "import pandas as pd\n",
        "import matplotlib.pyplot as plt\n",
        "import seaborn as sns"
      ]
    },
    {
      "cell_type": "code",
      "source": [
        "df = pd.read_csv('/content/sample_data/travel-times.csv')\n",
        "df.head(10)"
      ],
      "metadata": {
        "colab": {
          "base_uri": "https://localhost:8080/",
          "height": 427
        },
        "id": "mloUQhq0GZS6",
        "outputId": "940cd3c0-b0d1-4b93-c4cc-8f53ebb16743"
      },
      "execution_count": null,
      "outputs": [
        {
          "output_type": "execute_result",
          "data": {
            "text/plain": [
              "         Date StartTime  DayOfWeek GoingTo  Distance  MaxSpeed  AvgSpeed  \\\n",
              "0    1/6/2012     16:37     Friday    Home     51.29     127.4      78.3   \n",
              "1    1/6/2012     08:20     Friday     GSK     51.63     130.3      81.8   \n",
              "2    1/4/2012     16:17  Wednesday    Home     51.27     127.4      82.0   \n",
              "3    1/4/2012     07:53  Wednesday     GSK     49.17     132.3      74.2   \n",
              "4    1/3/2012     18:57    Tuesday    Home     51.15     136.2      83.4   \n",
              "5    1/3/2012     07:57    Tuesday     GSK     51.80     135.8      84.5   \n",
              "6    1/2/2012     17:31     Monday    Home     51.37     123.2      82.9   \n",
              "7    1/2/2012     07:34     Monday     GSK     49.01     128.3      77.5   \n",
              "8  12/23/2011     08:01     Friday     GSK     52.91     130.3      80.9   \n",
              "9  12/22/2011     17:19   Thursday    Home     51.17     122.3      70.6   \n",
              "\n",
              "   AvgMovingSpeed FuelEconomy  TotalTime  MovingTime Take407All Comments  \n",
              "0            84.8         NaN       39.3        36.3         No      NaN  \n",
              "1            88.9         NaN       37.9        34.9         No      NaN  \n",
              "2            85.8         NaN       37.5        35.9         No      NaN  \n",
              "3            82.9         NaN       39.8        35.6         No      NaN  \n",
              "4            88.1         NaN       36.8        34.8         No      NaN  \n",
              "5            88.8         NaN       36.8        35.0         No      NaN  \n",
              "6            87.3           -       37.2        35.3         No      NaN  \n",
              "7            85.9           -       37.9        34.3         No      NaN  \n",
              "8            88.3        8.89       39.3        36.0         No      NaN  \n",
              "9            78.1        8.89       43.5        39.3         No      NaN  "
            ],
            "text/html": [
              "\n",
              "  <div id=\"df-02481162-b02d-4dd3-b68f-aaf980841dd1\">\n",
              "    <div class=\"colab-df-container\">\n",
              "      <div>\n",
              "<style scoped>\n",
              "    .dataframe tbody tr th:only-of-type {\n",
              "        vertical-align: middle;\n",
              "    }\n",
              "\n",
              "    .dataframe tbody tr th {\n",
              "        vertical-align: top;\n",
              "    }\n",
              "\n",
              "    .dataframe thead th {\n",
              "        text-align: right;\n",
              "    }\n",
              "</style>\n",
              "<table border=\"1\" class=\"dataframe\">\n",
              "  <thead>\n",
              "    <tr style=\"text-align: right;\">\n",
              "      <th></th>\n",
              "      <th>Date</th>\n",
              "      <th>StartTime</th>\n",
              "      <th>DayOfWeek</th>\n",
              "      <th>GoingTo</th>\n",
              "      <th>Distance</th>\n",
              "      <th>MaxSpeed</th>\n",
              "      <th>AvgSpeed</th>\n",
              "      <th>AvgMovingSpeed</th>\n",
              "      <th>FuelEconomy</th>\n",
              "      <th>TotalTime</th>\n",
              "      <th>MovingTime</th>\n",
              "      <th>Take407All</th>\n",
              "      <th>Comments</th>\n",
              "    </tr>\n",
              "  </thead>\n",
              "  <tbody>\n",
              "    <tr>\n",
              "      <th>0</th>\n",
              "      <td>1/6/2012</td>\n",
              "      <td>16:37</td>\n",
              "      <td>Friday</td>\n",
              "      <td>Home</td>\n",
              "      <td>51.29</td>\n",
              "      <td>127.4</td>\n",
              "      <td>78.3</td>\n",
              "      <td>84.8</td>\n",
              "      <td>NaN</td>\n",
              "      <td>39.3</td>\n",
              "      <td>36.3</td>\n",
              "      <td>No</td>\n",
              "      <td>NaN</td>\n",
              "    </tr>\n",
              "    <tr>\n",
              "      <th>1</th>\n",
              "      <td>1/6/2012</td>\n",
              "      <td>08:20</td>\n",
              "      <td>Friday</td>\n",
              "      <td>GSK</td>\n",
              "      <td>51.63</td>\n",
              "      <td>130.3</td>\n",
              "      <td>81.8</td>\n",
              "      <td>88.9</td>\n",
              "      <td>NaN</td>\n",
              "      <td>37.9</td>\n",
              "      <td>34.9</td>\n",
              "      <td>No</td>\n",
              "      <td>NaN</td>\n",
              "    </tr>\n",
              "    <tr>\n",
              "      <th>2</th>\n",
              "      <td>1/4/2012</td>\n",
              "      <td>16:17</td>\n",
              "      <td>Wednesday</td>\n",
              "      <td>Home</td>\n",
              "      <td>51.27</td>\n",
              "      <td>127.4</td>\n",
              "      <td>82.0</td>\n",
              "      <td>85.8</td>\n",
              "      <td>NaN</td>\n",
              "      <td>37.5</td>\n",
              "      <td>35.9</td>\n",
              "      <td>No</td>\n",
              "      <td>NaN</td>\n",
              "    </tr>\n",
              "    <tr>\n",
              "      <th>3</th>\n",
              "      <td>1/4/2012</td>\n",
              "      <td>07:53</td>\n",
              "      <td>Wednesday</td>\n",
              "      <td>GSK</td>\n",
              "      <td>49.17</td>\n",
              "      <td>132.3</td>\n",
              "      <td>74.2</td>\n",
              "      <td>82.9</td>\n",
              "      <td>NaN</td>\n",
              "      <td>39.8</td>\n",
              "      <td>35.6</td>\n",
              "      <td>No</td>\n",
              "      <td>NaN</td>\n",
              "    </tr>\n",
              "    <tr>\n",
              "      <th>4</th>\n",
              "      <td>1/3/2012</td>\n",
              "      <td>18:57</td>\n",
              "      <td>Tuesday</td>\n",
              "      <td>Home</td>\n",
              "      <td>51.15</td>\n",
              "      <td>136.2</td>\n",
              "      <td>83.4</td>\n",
              "      <td>88.1</td>\n",
              "      <td>NaN</td>\n",
              "      <td>36.8</td>\n",
              "      <td>34.8</td>\n",
              "      <td>No</td>\n",
              "      <td>NaN</td>\n",
              "    </tr>\n",
              "    <tr>\n",
              "      <th>5</th>\n",
              "      <td>1/3/2012</td>\n",
              "      <td>07:57</td>\n",
              "      <td>Tuesday</td>\n",
              "      <td>GSK</td>\n",
              "      <td>51.80</td>\n",
              "      <td>135.8</td>\n",
              "      <td>84.5</td>\n",
              "      <td>88.8</td>\n",
              "      <td>NaN</td>\n",
              "      <td>36.8</td>\n",
              "      <td>35.0</td>\n",
              "      <td>No</td>\n",
              "      <td>NaN</td>\n",
              "    </tr>\n",
              "    <tr>\n",
              "      <th>6</th>\n",
              "      <td>1/2/2012</td>\n",
              "      <td>17:31</td>\n",
              "      <td>Monday</td>\n",
              "      <td>Home</td>\n",
              "      <td>51.37</td>\n",
              "      <td>123.2</td>\n",
              "      <td>82.9</td>\n",
              "      <td>87.3</td>\n",
              "      <td>-</td>\n",
              "      <td>37.2</td>\n",
              "      <td>35.3</td>\n",
              "      <td>No</td>\n",
              "      <td>NaN</td>\n",
              "    </tr>\n",
              "    <tr>\n",
              "      <th>7</th>\n",
              "      <td>1/2/2012</td>\n",
              "      <td>07:34</td>\n",
              "      <td>Monday</td>\n",
              "      <td>GSK</td>\n",
              "      <td>49.01</td>\n",
              "      <td>128.3</td>\n",
              "      <td>77.5</td>\n",
              "      <td>85.9</td>\n",
              "      <td>-</td>\n",
              "      <td>37.9</td>\n",
              "      <td>34.3</td>\n",
              "      <td>No</td>\n",
              "      <td>NaN</td>\n",
              "    </tr>\n",
              "    <tr>\n",
              "      <th>8</th>\n",
              "      <td>12/23/2011</td>\n",
              "      <td>08:01</td>\n",
              "      <td>Friday</td>\n",
              "      <td>GSK</td>\n",
              "      <td>52.91</td>\n",
              "      <td>130.3</td>\n",
              "      <td>80.9</td>\n",
              "      <td>88.3</td>\n",
              "      <td>8.89</td>\n",
              "      <td>39.3</td>\n",
              "      <td>36.0</td>\n",
              "      <td>No</td>\n",
              "      <td>NaN</td>\n",
              "    </tr>\n",
              "    <tr>\n",
              "      <th>9</th>\n",
              "      <td>12/22/2011</td>\n",
              "      <td>17:19</td>\n",
              "      <td>Thursday</td>\n",
              "      <td>Home</td>\n",
              "      <td>51.17</td>\n",
              "      <td>122.3</td>\n",
              "      <td>70.6</td>\n",
              "      <td>78.1</td>\n",
              "      <td>8.89</td>\n",
              "      <td>43.5</td>\n",
              "      <td>39.3</td>\n",
              "      <td>No</td>\n",
              "      <td>NaN</td>\n",
              "    </tr>\n",
              "  </tbody>\n",
              "</table>\n",
              "</div>\n",
              "      <button class=\"colab-df-convert\" onclick=\"convertToInteractive('df-02481162-b02d-4dd3-b68f-aaf980841dd1')\"\n",
              "              title=\"Convert this dataframe to an interactive table.\"\n",
              "              style=\"display:none;\">\n",
              "        \n",
              "  <svg xmlns=\"http://www.w3.org/2000/svg\" height=\"24px\"viewBox=\"0 0 24 24\"\n",
              "       width=\"24px\">\n",
              "    <path d=\"M0 0h24v24H0V0z\" fill=\"none\"/>\n",
              "    <path d=\"M18.56 5.44l.94 2.06.94-2.06 2.06-.94-2.06-.94-.94-2.06-.94 2.06-2.06.94zm-11 1L8.5 8.5l.94-2.06 2.06-.94-2.06-.94L8.5 2.5l-.94 2.06-2.06.94zm10 10l.94 2.06.94-2.06 2.06-.94-2.06-.94-.94-2.06-.94 2.06-2.06.94z\"/><path d=\"M17.41 7.96l-1.37-1.37c-.4-.4-.92-.59-1.43-.59-.52 0-1.04.2-1.43.59L10.3 9.45l-7.72 7.72c-.78.78-.78 2.05 0 2.83L4 21.41c.39.39.9.59 1.41.59.51 0 1.02-.2 1.41-.59l7.78-7.78 2.81-2.81c.8-.78.8-2.07 0-2.86zM5.41 20L4 18.59l7.72-7.72 1.47 1.35L5.41 20z\"/>\n",
              "  </svg>\n",
              "      </button>\n",
              "      \n",
              "  <style>\n",
              "    .colab-df-container {\n",
              "      display:flex;\n",
              "      flex-wrap:wrap;\n",
              "      gap: 12px;\n",
              "    }\n",
              "\n",
              "    .colab-df-convert {\n",
              "      background-color: #E8F0FE;\n",
              "      border: none;\n",
              "      border-radius: 50%;\n",
              "      cursor: pointer;\n",
              "      display: none;\n",
              "      fill: #1967D2;\n",
              "      height: 32px;\n",
              "      padding: 0 0 0 0;\n",
              "      width: 32px;\n",
              "    }\n",
              "\n",
              "    .colab-df-convert:hover {\n",
              "      background-color: #E2EBFA;\n",
              "      box-shadow: 0px 1px 2px rgba(60, 64, 67, 0.3), 0px 1px 3px 1px rgba(60, 64, 67, 0.15);\n",
              "      fill: #174EA6;\n",
              "    }\n",
              "\n",
              "    [theme=dark] .colab-df-convert {\n",
              "      background-color: #3B4455;\n",
              "      fill: #D2E3FC;\n",
              "    }\n",
              "\n",
              "    [theme=dark] .colab-df-convert:hover {\n",
              "      background-color: #434B5C;\n",
              "      box-shadow: 0px 1px 3px 1px rgba(0, 0, 0, 0.15);\n",
              "      filter: drop-shadow(0px 1px 2px rgba(0, 0, 0, 0.3));\n",
              "      fill: #FFFFFF;\n",
              "    }\n",
              "  </style>\n",
              "\n",
              "      <script>\n",
              "        const buttonEl =\n",
              "          document.querySelector('#df-02481162-b02d-4dd3-b68f-aaf980841dd1 button.colab-df-convert');\n",
              "        buttonEl.style.display =\n",
              "          google.colab.kernel.accessAllowed ? 'block' : 'none';\n",
              "\n",
              "        async function convertToInteractive(key) {\n",
              "          const element = document.querySelector('#df-02481162-b02d-4dd3-b68f-aaf980841dd1');\n",
              "          const dataTable =\n",
              "            await google.colab.kernel.invokeFunction('convertToInteractive',\n",
              "                                                     [key], {});\n",
              "          if (!dataTable) return;\n",
              "\n",
              "          const docLinkHtml = 'Like what you see? Visit the ' +\n",
              "            '<a target=\"_blank\" href=https://colab.research.google.com/notebooks/data_table.ipynb>data table notebook</a>'\n",
              "            + ' to learn more about interactive tables.';\n",
              "          element.innerHTML = '';\n",
              "          dataTable['output_type'] = 'display_data';\n",
              "          await google.colab.output.renderOutput(dataTable, element);\n",
              "          const docLink = document.createElement('div');\n",
              "          docLink.innerHTML = docLinkHtml;\n",
              "          element.appendChild(docLink);\n",
              "        }\n",
              "      </script>\n",
              "    </div>\n",
              "  </div>\n",
              "  "
            ]
          },
          "metadata": {},
          "execution_count": 3
        }
      ]
    },
    {
      "cell_type": "code",
      "source": [
        "df = df[df['FuelEconomy'] != '-']"
      ],
      "metadata": {
        "id": "aqAPluE1jF8p"
      },
      "execution_count": null,
      "outputs": []
    },
    {
      "cell_type": "code",
      "source": [
        "df.head(10)"
      ],
      "metadata": {
        "colab": {
          "base_uri": "https://localhost:8080/",
          "height": 427
        },
        "id": "Owfe1x6BjPV4",
        "outputId": "49bb6576-0bf9-48e1-be5d-15530dec93a7"
      },
      "execution_count": null,
      "outputs": [
        {
          "output_type": "execute_result",
          "data": {
            "text/plain": [
              "          Date StartTime  DayOfWeek GoingTo  Distance  MaxSpeed  AvgSpeed  \\\n",
              "0     1/6/2012     16:37     Friday    Home     51.29     127.4      78.3   \n",
              "1     1/6/2012     08:20     Friday     GSK     51.63     130.3      81.8   \n",
              "2     1/4/2012     16:17  Wednesday    Home     51.27     127.4      82.0   \n",
              "3     1/4/2012     07:53  Wednesday     GSK     49.17     132.3      74.2   \n",
              "4     1/3/2012     18:57    Tuesday    Home     51.15     136.2      83.4   \n",
              "5     1/3/2012     07:57    Tuesday     GSK     51.80     135.8      84.5   \n",
              "8   12/23/2011     08:01     Friday     GSK     52.91     130.3      80.9   \n",
              "9   12/22/2011     17:19   Thursday    Home     51.17     122.3      70.6   \n",
              "10  12/22/2011     08:16   Thursday     GSK     49.15     129.4      74.0   \n",
              "11  12/21/2011     07:45  Wednesday     GSK     51.77     124.8      71.7   \n",
              "\n",
              "    AvgMovingSpeed FuelEconomy  TotalTime  MovingTime Take407All Comments  \n",
              "0             84.8         NaN       39.3        36.3         No      NaN  \n",
              "1             88.9         NaN       37.9        34.9         No      NaN  \n",
              "2             85.8         NaN       37.5        35.9         No      NaN  \n",
              "3             82.9         NaN       39.8        35.6         No      NaN  \n",
              "4             88.1         NaN       36.8        34.8         No      NaN  \n",
              "5             88.8         NaN       36.8        35.0         No      NaN  \n",
              "8             88.3        8.89       39.3        36.0         No      NaN  \n",
              "9             78.1        8.89       43.5        39.3         No      NaN  \n",
              "10            81.4        8.89       39.8        36.2         No      NaN  \n",
              "11            78.9        8.89       43.3        39.4         No      NaN  "
            ],
            "text/html": [
              "\n",
              "  <div id=\"df-21bf5a87-e19a-4863-849f-f5bf205a5589\">\n",
              "    <div class=\"colab-df-container\">\n",
              "      <div>\n",
              "<style scoped>\n",
              "    .dataframe tbody tr th:only-of-type {\n",
              "        vertical-align: middle;\n",
              "    }\n",
              "\n",
              "    .dataframe tbody tr th {\n",
              "        vertical-align: top;\n",
              "    }\n",
              "\n",
              "    .dataframe thead th {\n",
              "        text-align: right;\n",
              "    }\n",
              "</style>\n",
              "<table border=\"1\" class=\"dataframe\">\n",
              "  <thead>\n",
              "    <tr style=\"text-align: right;\">\n",
              "      <th></th>\n",
              "      <th>Date</th>\n",
              "      <th>StartTime</th>\n",
              "      <th>DayOfWeek</th>\n",
              "      <th>GoingTo</th>\n",
              "      <th>Distance</th>\n",
              "      <th>MaxSpeed</th>\n",
              "      <th>AvgSpeed</th>\n",
              "      <th>AvgMovingSpeed</th>\n",
              "      <th>FuelEconomy</th>\n",
              "      <th>TotalTime</th>\n",
              "      <th>MovingTime</th>\n",
              "      <th>Take407All</th>\n",
              "      <th>Comments</th>\n",
              "    </tr>\n",
              "  </thead>\n",
              "  <tbody>\n",
              "    <tr>\n",
              "      <th>0</th>\n",
              "      <td>1/6/2012</td>\n",
              "      <td>16:37</td>\n",
              "      <td>Friday</td>\n",
              "      <td>Home</td>\n",
              "      <td>51.29</td>\n",
              "      <td>127.4</td>\n",
              "      <td>78.3</td>\n",
              "      <td>84.8</td>\n",
              "      <td>NaN</td>\n",
              "      <td>39.3</td>\n",
              "      <td>36.3</td>\n",
              "      <td>No</td>\n",
              "      <td>NaN</td>\n",
              "    </tr>\n",
              "    <tr>\n",
              "      <th>1</th>\n",
              "      <td>1/6/2012</td>\n",
              "      <td>08:20</td>\n",
              "      <td>Friday</td>\n",
              "      <td>GSK</td>\n",
              "      <td>51.63</td>\n",
              "      <td>130.3</td>\n",
              "      <td>81.8</td>\n",
              "      <td>88.9</td>\n",
              "      <td>NaN</td>\n",
              "      <td>37.9</td>\n",
              "      <td>34.9</td>\n",
              "      <td>No</td>\n",
              "      <td>NaN</td>\n",
              "    </tr>\n",
              "    <tr>\n",
              "      <th>2</th>\n",
              "      <td>1/4/2012</td>\n",
              "      <td>16:17</td>\n",
              "      <td>Wednesday</td>\n",
              "      <td>Home</td>\n",
              "      <td>51.27</td>\n",
              "      <td>127.4</td>\n",
              "      <td>82.0</td>\n",
              "      <td>85.8</td>\n",
              "      <td>NaN</td>\n",
              "      <td>37.5</td>\n",
              "      <td>35.9</td>\n",
              "      <td>No</td>\n",
              "      <td>NaN</td>\n",
              "    </tr>\n",
              "    <tr>\n",
              "      <th>3</th>\n",
              "      <td>1/4/2012</td>\n",
              "      <td>07:53</td>\n",
              "      <td>Wednesday</td>\n",
              "      <td>GSK</td>\n",
              "      <td>49.17</td>\n",
              "      <td>132.3</td>\n",
              "      <td>74.2</td>\n",
              "      <td>82.9</td>\n",
              "      <td>NaN</td>\n",
              "      <td>39.8</td>\n",
              "      <td>35.6</td>\n",
              "      <td>No</td>\n",
              "      <td>NaN</td>\n",
              "    </tr>\n",
              "    <tr>\n",
              "      <th>4</th>\n",
              "      <td>1/3/2012</td>\n",
              "      <td>18:57</td>\n",
              "      <td>Tuesday</td>\n",
              "      <td>Home</td>\n",
              "      <td>51.15</td>\n",
              "      <td>136.2</td>\n",
              "      <td>83.4</td>\n",
              "      <td>88.1</td>\n",
              "      <td>NaN</td>\n",
              "      <td>36.8</td>\n",
              "      <td>34.8</td>\n",
              "      <td>No</td>\n",
              "      <td>NaN</td>\n",
              "    </tr>\n",
              "    <tr>\n",
              "      <th>5</th>\n",
              "      <td>1/3/2012</td>\n",
              "      <td>07:57</td>\n",
              "      <td>Tuesday</td>\n",
              "      <td>GSK</td>\n",
              "      <td>51.80</td>\n",
              "      <td>135.8</td>\n",
              "      <td>84.5</td>\n",
              "      <td>88.8</td>\n",
              "      <td>NaN</td>\n",
              "      <td>36.8</td>\n",
              "      <td>35.0</td>\n",
              "      <td>No</td>\n",
              "      <td>NaN</td>\n",
              "    </tr>\n",
              "    <tr>\n",
              "      <th>8</th>\n",
              "      <td>12/23/2011</td>\n",
              "      <td>08:01</td>\n",
              "      <td>Friday</td>\n",
              "      <td>GSK</td>\n",
              "      <td>52.91</td>\n",
              "      <td>130.3</td>\n",
              "      <td>80.9</td>\n",
              "      <td>88.3</td>\n",
              "      <td>8.89</td>\n",
              "      <td>39.3</td>\n",
              "      <td>36.0</td>\n",
              "      <td>No</td>\n",
              "      <td>NaN</td>\n",
              "    </tr>\n",
              "    <tr>\n",
              "      <th>9</th>\n",
              "      <td>12/22/2011</td>\n",
              "      <td>17:19</td>\n",
              "      <td>Thursday</td>\n",
              "      <td>Home</td>\n",
              "      <td>51.17</td>\n",
              "      <td>122.3</td>\n",
              "      <td>70.6</td>\n",
              "      <td>78.1</td>\n",
              "      <td>8.89</td>\n",
              "      <td>43.5</td>\n",
              "      <td>39.3</td>\n",
              "      <td>No</td>\n",
              "      <td>NaN</td>\n",
              "    </tr>\n",
              "    <tr>\n",
              "      <th>10</th>\n",
              "      <td>12/22/2011</td>\n",
              "      <td>08:16</td>\n",
              "      <td>Thursday</td>\n",
              "      <td>GSK</td>\n",
              "      <td>49.15</td>\n",
              "      <td>129.4</td>\n",
              "      <td>74.0</td>\n",
              "      <td>81.4</td>\n",
              "      <td>8.89</td>\n",
              "      <td>39.8</td>\n",
              "      <td>36.2</td>\n",
              "      <td>No</td>\n",
              "      <td>NaN</td>\n",
              "    </tr>\n",
              "    <tr>\n",
              "      <th>11</th>\n",
              "      <td>12/21/2011</td>\n",
              "      <td>07:45</td>\n",
              "      <td>Wednesday</td>\n",
              "      <td>GSK</td>\n",
              "      <td>51.77</td>\n",
              "      <td>124.8</td>\n",
              "      <td>71.7</td>\n",
              "      <td>78.9</td>\n",
              "      <td>8.89</td>\n",
              "      <td>43.3</td>\n",
              "      <td>39.4</td>\n",
              "      <td>No</td>\n",
              "      <td>NaN</td>\n",
              "    </tr>\n",
              "  </tbody>\n",
              "</table>\n",
              "</div>\n",
              "      <button class=\"colab-df-convert\" onclick=\"convertToInteractive('df-21bf5a87-e19a-4863-849f-f5bf205a5589')\"\n",
              "              title=\"Convert this dataframe to an interactive table.\"\n",
              "              style=\"display:none;\">\n",
              "        \n",
              "  <svg xmlns=\"http://www.w3.org/2000/svg\" height=\"24px\"viewBox=\"0 0 24 24\"\n",
              "       width=\"24px\">\n",
              "    <path d=\"M0 0h24v24H0V0z\" fill=\"none\"/>\n",
              "    <path d=\"M18.56 5.44l.94 2.06.94-2.06 2.06-.94-2.06-.94-.94-2.06-.94 2.06-2.06.94zm-11 1L8.5 8.5l.94-2.06 2.06-.94-2.06-.94L8.5 2.5l-.94 2.06-2.06.94zm10 10l.94 2.06.94-2.06 2.06-.94-2.06-.94-.94-2.06-.94 2.06-2.06.94z\"/><path d=\"M17.41 7.96l-1.37-1.37c-.4-.4-.92-.59-1.43-.59-.52 0-1.04.2-1.43.59L10.3 9.45l-7.72 7.72c-.78.78-.78 2.05 0 2.83L4 21.41c.39.39.9.59 1.41.59.51 0 1.02-.2 1.41-.59l7.78-7.78 2.81-2.81c.8-.78.8-2.07 0-2.86zM5.41 20L4 18.59l7.72-7.72 1.47 1.35L5.41 20z\"/>\n",
              "  </svg>\n",
              "      </button>\n",
              "      \n",
              "  <style>\n",
              "    .colab-df-container {\n",
              "      display:flex;\n",
              "      flex-wrap:wrap;\n",
              "      gap: 12px;\n",
              "    }\n",
              "\n",
              "    .colab-df-convert {\n",
              "      background-color: #E8F0FE;\n",
              "      border: none;\n",
              "      border-radius: 50%;\n",
              "      cursor: pointer;\n",
              "      display: none;\n",
              "      fill: #1967D2;\n",
              "      height: 32px;\n",
              "      padding: 0 0 0 0;\n",
              "      width: 32px;\n",
              "    }\n",
              "\n",
              "    .colab-df-convert:hover {\n",
              "      background-color: #E2EBFA;\n",
              "      box-shadow: 0px 1px 2px rgba(60, 64, 67, 0.3), 0px 1px 3px 1px rgba(60, 64, 67, 0.15);\n",
              "      fill: #174EA6;\n",
              "    }\n",
              "\n",
              "    [theme=dark] .colab-df-convert {\n",
              "      background-color: #3B4455;\n",
              "      fill: #D2E3FC;\n",
              "    }\n",
              "\n",
              "    [theme=dark] .colab-df-convert:hover {\n",
              "      background-color: #434B5C;\n",
              "      box-shadow: 0px 1px 3px 1px rgba(0, 0, 0, 0.15);\n",
              "      filter: drop-shadow(0px 1px 2px rgba(0, 0, 0, 0.3));\n",
              "      fill: #FFFFFF;\n",
              "    }\n",
              "  </style>\n",
              "\n",
              "      <script>\n",
              "        const buttonEl =\n",
              "          document.querySelector('#df-21bf5a87-e19a-4863-849f-f5bf205a5589 button.colab-df-convert');\n",
              "        buttonEl.style.display =\n",
              "          google.colab.kernel.accessAllowed ? 'block' : 'none';\n",
              "\n",
              "        async function convertToInteractive(key) {\n",
              "          const element = document.querySelector('#df-21bf5a87-e19a-4863-849f-f5bf205a5589');\n",
              "          const dataTable =\n",
              "            await google.colab.kernel.invokeFunction('convertToInteractive',\n",
              "                                                     [key], {});\n",
              "          if (!dataTable) return;\n",
              "\n",
              "          const docLinkHtml = 'Like what you see? Visit the ' +\n",
              "            '<a target=\"_blank\" href=https://colab.research.google.com/notebooks/data_table.ipynb>data table notebook</a>'\n",
              "            + ' to learn more about interactive tables.';\n",
              "          element.innerHTML = '';\n",
              "          dataTable['output_type'] = 'display_data';\n",
              "          await google.colab.output.renderOutput(dataTable, element);\n",
              "          const docLink = document.createElement('div');\n",
              "          docLink.innerHTML = docLinkHtml;\n",
              "          element.appendChild(docLink);\n",
              "        }\n",
              "      </script>\n",
              "    </div>\n",
              "  </div>\n",
              "  "
            ]
          },
          "metadata": {},
          "execution_count": 5
        }
      ]
    },
    {
      "cell_type": "code",
      "source": [
        "df.drop(['Date', 'StartTime'], axis =1)"
      ],
      "metadata": {
        "colab": {
          "base_uri": "https://localhost:8080/",
          "height": 488
        },
        "id": "_MzxPPCOTtu1",
        "outputId": "da543ea7-13bc-44e8-9dc7-d63a11f50511"
      },
      "execution_count": null,
      "outputs": [
        {
          "output_type": "execute_result",
          "data": {
            "text/plain": [
              "     DayOfWeek GoingTo  Distance  MaxSpeed  AvgSpeed  AvgMovingSpeed  \\\n",
              "0       Friday    Home     51.29     127.4      78.3            84.8   \n",
              "1       Friday     GSK     51.63     130.3      81.8            88.9   \n",
              "2    Wednesday    Home     51.27     127.4      82.0            85.8   \n",
              "3    Wednesday     GSK     49.17     132.3      74.2            82.9   \n",
              "4      Tuesday    Home     51.15     136.2      83.4            88.1   \n",
              "..         ...     ...       ...       ...       ...             ...   \n",
              "200     Monday     GSK     54.52     125.6      49.9            82.4   \n",
              "201   Thursday     GSK     50.90     123.7      76.2            95.1   \n",
              "202  Wednesday    Home     51.96     132.6      57.5            76.7   \n",
              "203    Tuesday    Home     53.28     125.8      61.6            87.6   \n",
              "204     Monday    Home     51.73     125.0      62.8            92.5   \n",
              "\n",
              "    FuelEconomy  TotalTime  MovingTime Take407All Comments  \n",
              "0           NaN       39.3        36.3         No      NaN  \n",
              "1           NaN       37.9        34.9         No      NaN  \n",
              "2           NaN       37.5        35.9         No      NaN  \n",
              "3           NaN       39.8        35.6         No      NaN  \n",
              "4           NaN       36.8        34.8         No      NaN  \n",
              "..          ...        ...         ...        ...      ...  \n",
              "200        7.89       65.5        39.7         No      NaN  \n",
              "201        7.89       40.1        32.1        Yes      NaN  \n",
              "202         NaN       54.2        40.6        Yes      NaN  \n",
              "203         NaN       51.9        36.5        Yes      NaN  \n",
              "204         NaN       49.5        33.6        Yes      NaN  \n",
              "\n",
              "[203 rows x 11 columns]"
            ],
            "text/html": [
              "\n",
              "  <div id=\"df-9f4dc0f7-396b-4939-9e7c-6e79e53f2816\">\n",
              "    <div class=\"colab-df-container\">\n",
              "      <div>\n",
              "<style scoped>\n",
              "    .dataframe tbody tr th:only-of-type {\n",
              "        vertical-align: middle;\n",
              "    }\n",
              "\n",
              "    .dataframe tbody tr th {\n",
              "        vertical-align: top;\n",
              "    }\n",
              "\n",
              "    .dataframe thead th {\n",
              "        text-align: right;\n",
              "    }\n",
              "</style>\n",
              "<table border=\"1\" class=\"dataframe\">\n",
              "  <thead>\n",
              "    <tr style=\"text-align: right;\">\n",
              "      <th></th>\n",
              "      <th>DayOfWeek</th>\n",
              "      <th>GoingTo</th>\n",
              "      <th>Distance</th>\n",
              "      <th>MaxSpeed</th>\n",
              "      <th>AvgSpeed</th>\n",
              "      <th>AvgMovingSpeed</th>\n",
              "      <th>FuelEconomy</th>\n",
              "      <th>TotalTime</th>\n",
              "      <th>MovingTime</th>\n",
              "      <th>Take407All</th>\n",
              "      <th>Comments</th>\n",
              "    </tr>\n",
              "  </thead>\n",
              "  <tbody>\n",
              "    <tr>\n",
              "      <th>0</th>\n",
              "      <td>Friday</td>\n",
              "      <td>Home</td>\n",
              "      <td>51.29</td>\n",
              "      <td>127.4</td>\n",
              "      <td>78.3</td>\n",
              "      <td>84.8</td>\n",
              "      <td>NaN</td>\n",
              "      <td>39.3</td>\n",
              "      <td>36.3</td>\n",
              "      <td>No</td>\n",
              "      <td>NaN</td>\n",
              "    </tr>\n",
              "    <tr>\n",
              "      <th>1</th>\n",
              "      <td>Friday</td>\n",
              "      <td>GSK</td>\n",
              "      <td>51.63</td>\n",
              "      <td>130.3</td>\n",
              "      <td>81.8</td>\n",
              "      <td>88.9</td>\n",
              "      <td>NaN</td>\n",
              "      <td>37.9</td>\n",
              "      <td>34.9</td>\n",
              "      <td>No</td>\n",
              "      <td>NaN</td>\n",
              "    </tr>\n",
              "    <tr>\n",
              "      <th>2</th>\n",
              "      <td>Wednesday</td>\n",
              "      <td>Home</td>\n",
              "      <td>51.27</td>\n",
              "      <td>127.4</td>\n",
              "      <td>82.0</td>\n",
              "      <td>85.8</td>\n",
              "      <td>NaN</td>\n",
              "      <td>37.5</td>\n",
              "      <td>35.9</td>\n",
              "      <td>No</td>\n",
              "      <td>NaN</td>\n",
              "    </tr>\n",
              "    <tr>\n",
              "      <th>3</th>\n",
              "      <td>Wednesday</td>\n",
              "      <td>GSK</td>\n",
              "      <td>49.17</td>\n",
              "      <td>132.3</td>\n",
              "      <td>74.2</td>\n",
              "      <td>82.9</td>\n",
              "      <td>NaN</td>\n",
              "      <td>39.8</td>\n",
              "      <td>35.6</td>\n",
              "      <td>No</td>\n",
              "      <td>NaN</td>\n",
              "    </tr>\n",
              "    <tr>\n",
              "      <th>4</th>\n",
              "      <td>Tuesday</td>\n",
              "      <td>Home</td>\n",
              "      <td>51.15</td>\n",
              "      <td>136.2</td>\n",
              "      <td>83.4</td>\n",
              "      <td>88.1</td>\n",
              "      <td>NaN</td>\n",
              "      <td>36.8</td>\n",
              "      <td>34.8</td>\n",
              "      <td>No</td>\n",
              "      <td>NaN</td>\n",
              "    </tr>\n",
              "    <tr>\n",
              "      <th>...</th>\n",
              "      <td>...</td>\n",
              "      <td>...</td>\n",
              "      <td>...</td>\n",
              "      <td>...</td>\n",
              "      <td>...</td>\n",
              "      <td>...</td>\n",
              "      <td>...</td>\n",
              "      <td>...</td>\n",
              "      <td>...</td>\n",
              "      <td>...</td>\n",
              "      <td>...</td>\n",
              "    </tr>\n",
              "    <tr>\n",
              "      <th>200</th>\n",
              "      <td>Monday</td>\n",
              "      <td>GSK</td>\n",
              "      <td>54.52</td>\n",
              "      <td>125.6</td>\n",
              "      <td>49.9</td>\n",
              "      <td>82.4</td>\n",
              "      <td>7.89</td>\n",
              "      <td>65.5</td>\n",
              "      <td>39.7</td>\n",
              "      <td>No</td>\n",
              "      <td>NaN</td>\n",
              "    </tr>\n",
              "    <tr>\n",
              "      <th>201</th>\n",
              "      <td>Thursday</td>\n",
              "      <td>GSK</td>\n",
              "      <td>50.90</td>\n",
              "      <td>123.7</td>\n",
              "      <td>76.2</td>\n",
              "      <td>95.1</td>\n",
              "      <td>7.89</td>\n",
              "      <td>40.1</td>\n",
              "      <td>32.1</td>\n",
              "      <td>Yes</td>\n",
              "      <td>NaN</td>\n",
              "    </tr>\n",
              "    <tr>\n",
              "      <th>202</th>\n",
              "      <td>Wednesday</td>\n",
              "      <td>Home</td>\n",
              "      <td>51.96</td>\n",
              "      <td>132.6</td>\n",
              "      <td>57.5</td>\n",
              "      <td>76.7</td>\n",
              "      <td>NaN</td>\n",
              "      <td>54.2</td>\n",
              "      <td>40.6</td>\n",
              "      <td>Yes</td>\n",
              "      <td>NaN</td>\n",
              "    </tr>\n",
              "    <tr>\n",
              "      <th>203</th>\n",
              "      <td>Tuesday</td>\n",
              "      <td>Home</td>\n",
              "      <td>53.28</td>\n",
              "      <td>125.8</td>\n",
              "      <td>61.6</td>\n",
              "      <td>87.6</td>\n",
              "      <td>NaN</td>\n",
              "      <td>51.9</td>\n",
              "      <td>36.5</td>\n",
              "      <td>Yes</td>\n",
              "      <td>NaN</td>\n",
              "    </tr>\n",
              "    <tr>\n",
              "      <th>204</th>\n",
              "      <td>Monday</td>\n",
              "      <td>Home</td>\n",
              "      <td>51.73</td>\n",
              "      <td>125.0</td>\n",
              "      <td>62.8</td>\n",
              "      <td>92.5</td>\n",
              "      <td>NaN</td>\n",
              "      <td>49.5</td>\n",
              "      <td>33.6</td>\n",
              "      <td>Yes</td>\n",
              "      <td>NaN</td>\n",
              "    </tr>\n",
              "  </tbody>\n",
              "</table>\n",
              "<p>203 rows × 11 columns</p>\n",
              "</div>\n",
              "      <button class=\"colab-df-convert\" onclick=\"convertToInteractive('df-9f4dc0f7-396b-4939-9e7c-6e79e53f2816')\"\n",
              "              title=\"Convert this dataframe to an interactive table.\"\n",
              "              style=\"display:none;\">\n",
              "        \n",
              "  <svg xmlns=\"http://www.w3.org/2000/svg\" height=\"24px\"viewBox=\"0 0 24 24\"\n",
              "       width=\"24px\">\n",
              "    <path d=\"M0 0h24v24H0V0z\" fill=\"none\"/>\n",
              "    <path d=\"M18.56 5.44l.94 2.06.94-2.06 2.06-.94-2.06-.94-.94-2.06-.94 2.06-2.06.94zm-11 1L8.5 8.5l.94-2.06 2.06-.94-2.06-.94L8.5 2.5l-.94 2.06-2.06.94zm10 10l.94 2.06.94-2.06 2.06-.94-2.06-.94-.94-2.06-.94 2.06-2.06.94z\"/><path d=\"M17.41 7.96l-1.37-1.37c-.4-.4-.92-.59-1.43-.59-.52 0-1.04.2-1.43.59L10.3 9.45l-7.72 7.72c-.78.78-.78 2.05 0 2.83L4 21.41c.39.39.9.59 1.41.59.51 0 1.02-.2 1.41-.59l7.78-7.78 2.81-2.81c.8-.78.8-2.07 0-2.86zM5.41 20L4 18.59l7.72-7.72 1.47 1.35L5.41 20z\"/>\n",
              "  </svg>\n",
              "      </button>\n",
              "      \n",
              "  <style>\n",
              "    .colab-df-container {\n",
              "      display:flex;\n",
              "      flex-wrap:wrap;\n",
              "      gap: 12px;\n",
              "    }\n",
              "\n",
              "    .colab-df-convert {\n",
              "      background-color: #E8F0FE;\n",
              "      border: none;\n",
              "      border-radius: 50%;\n",
              "      cursor: pointer;\n",
              "      display: none;\n",
              "      fill: #1967D2;\n",
              "      height: 32px;\n",
              "      padding: 0 0 0 0;\n",
              "      width: 32px;\n",
              "    }\n",
              "\n",
              "    .colab-df-convert:hover {\n",
              "      background-color: #E2EBFA;\n",
              "      box-shadow: 0px 1px 2px rgba(60, 64, 67, 0.3), 0px 1px 3px 1px rgba(60, 64, 67, 0.15);\n",
              "      fill: #174EA6;\n",
              "    }\n",
              "\n",
              "    [theme=dark] .colab-df-convert {\n",
              "      background-color: #3B4455;\n",
              "      fill: #D2E3FC;\n",
              "    }\n",
              "\n",
              "    [theme=dark] .colab-df-convert:hover {\n",
              "      background-color: #434B5C;\n",
              "      box-shadow: 0px 1px 3px 1px rgba(0, 0, 0, 0.15);\n",
              "      filter: drop-shadow(0px 1px 2px rgba(0, 0, 0, 0.3));\n",
              "      fill: #FFFFFF;\n",
              "    }\n",
              "  </style>\n",
              "\n",
              "      <script>\n",
              "        const buttonEl =\n",
              "          document.querySelector('#df-9f4dc0f7-396b-4939-9e7c-6e79e53f2816 button.colab-df-convert');\n",
              "        buttonEl.style.display =\n",
              "          google.colab.kernel.accessAllowed ? 'block' : 'none';\n",
              "\n",
              "        async function convertToInteractive(key) {\n",
              "          const element = document.querySelector('#df-9f4dc0f7-396b-4939-9e7c-6e79e53f2816');\n",
              "          const dataTable =\n",
              "            await google.colab.kernel.invokeFunction('convertToInteractive',\n",
              "                                                     [key], {});\n",
              "          if (!dataTable) return;\n",
              "\n",
              "          const docLinkHtml = 'Like what you see? Visit the ' +\n",
              "            '<a target=\"_blank\" href=https://colab.research.google.com/notebooks/data_table.ipynb>data table notebook</a>'\n",
              "            + ' to learn more about interactive tables.';\n",
              "          element.innerHTML = '';\n",
              "          dataTable['output_type'] = 'display_data';\n",
              "          await google.colab.output.renderOutput(dataTable, element);\n",
              "          const docLink = document.createElement('div');\n",
              "          docLink.innerHTML = docLinkHtml;\n",
              "          element.appendChild(docLink);\n",
              "        }\n",
              "      </script>\n",
              "    </div>\n",
              "  </div>\n",
              "  "
            ]
          },
          "metadata": {},
          "execution_count": 6
        }
      ]
    },
    {
      "cell_type": "code",
      "source": [
        "df.isnull().mean()\n",
        "# gives percentage of null values in particular column"
      ],
      "metadata": {
        "colab": {
          "base_uri": "https://localhost:8080/"
        },
        "id": "q_i990G2Gkyv",
        "outputId": "37b686c7-7275-4e79-85db-41ba1e922db2"
      },
      "execution_count": null,
      "outputs": [
        {
          "output_type": "execute_result",
          "data": {
            "text/plain": [
              "Date              0.000000\n",
              "StartTime         0.000000\n",
              "DayOfWeek         0.000000\n",
              "GoingTo           0.000000\n",
              "Distance          0.000000\n",
              "MaxSpeed          0.000000\n",
              "AvgSpeed          0.000000\n",
              "AvgMovingSpeed    0.000000\n",
              "FuelEconomy       0.083744\n",
              "TotalTime         0.000000\n",
              "MovingTime        0.000000\n",
              "Take407All        0.000000\n",
              "Comments          0.881773\n",
              "dtype: float64"
            ]
          },
          "metadata": {},
          "execution_count": 7
        }
      ]
    },
    {
      "cell_type": "markdown",
      "source": [
        "# deletion of rows with missing data\n"
      ],
      "metadata": {
        "id": "h1uZloaFXO90"
      }
    },
    {
      "cell_type": "code",
      "source": [
        "remove_na_rows = df.dropna(axis = 0)\n",
        "print(remove_na_rows.shape)\n",
        "print(df.shape)"
      ],
      "metadata": {
        "colab": {
          "base_uri": "https://localhost:8080/"
        },
        "id": "Hm0UpSojRbOX",
        "outputId": "a726cd64-71e0-4448-f005-3e68f466e714"
      },
      "execution_count": null,
      "outputs": [
        {
          "output_type": "stream",
          "name": "stdout",
          "text": [
            "(23, 13)\n",
            "(203, 13)\n"
          ]
        }
      ]
    },
    {
      "cell_type": "markdown",
      "source": [
        "# Mean/Median imputation\n"
      ],
      "metadata": {
        "id": "aLHDHTWfXTcc"
      }
    },
    {
      "cell_type": "code",
      "source": [
        "from sklearn.impute import SimpleImputer\n",
        "imputer = SimpleImputer(strategy='mean', missing_values=np.nan)\n",
        "imputer = imputer.fit(df[['FuelEconomy']])\n",
        "data = imputer.transform(df[['FuelEconomy']])\n",
        "for i in range(0, 10):\n",
        "  print(data[i])"
      ],
      "metadata": {
        "colab": {
          "base_uri": "https://localhost:8080/"
        },
        "id": "clrkM4_PRztW",
        "outputId": "180750b7-3a82-4618-e87d-d419ae556083"
      },
      "execution_count": null,
      "outputs": [
        {
          "output_type": "stream",
          "name": "stdout",
          "text": [
            "[8.6905914]\n",
            "[8.6905914]\n",
            "[8.6905914]\n",
            "[8.6905914]\n",
            "[8.6905914]\n",
            "[8.6905914]\n",
            "[8.89]\n",
            "[8.89]\n",
            "[8.89]\n",
            "[8.89]\n"
          ]
        }
      ]
    },
    {
      "cell_type": "code",
      "source": [
        "median_fuelEconomy = df['FuelEconomy'].median()\n",
        "print(df['FuelEconomy'].fillna(median_fuelEconomy))"
      ],
      "metadata": {
        "colab": {
          "base_uri": "https://localhost:8080/"
        },
        "id": "nGUu8Y3_TUON",
        "outputId": "d20c726e-4d52-488d-913a-0a2fdd6f5727"
      },
      "execution_count": null,
      "outputs": [
        {
          "output_type": "stream",
          "name": "stdout",
          "text": [
            "0      8.52\n",
            "1      8.52\n",
            "2      8.52\n",
            "3      8.52\n",
            "4      8.52\n",
            "       ... \n",
            "200    7.89\n",
            "201    7.89\n",
            "202    8.52\n",
            "203    8.52\n",
            "204    8.52\n",
            "Name: FuelEconomy, Length: 203, dtype: object\n"
          ]
        }
      ]
    },
    {
      "cell_type": "code",
      "source": [
        "# Mode imputation, Arbitrary value imputation\n",
        "\n",
        "# list comprehension to get all categorical variables\n",
        "cat_variables = [ var for var in df.columns if len(df[var].unique()) < 10]\n",
        "cat_variables"
      ],
      "metadata": {
        "colab": {
          "base_uri": "https://localhost:8080/"
        },
        "id": "5T2526sXTcj9",
        "outputId": "2a9629ca-a11d-48c2-94a7-664a25035b99"
      },
      "execution_count": null,
      "outputs": [
        {
          "output_type": "execute_result",
          "data": {
            "text/plain": [
              "['DayOfWeek', 'GoingTo', 'Take407All']"
            ]
          },
          "metadata": {},
          "execution_count": 11
        }
      ]
    },
    {
      "cell_type": "markdown",
      "source": [
        "# Mode imputation / frequent category Imputation\n"
      ],
      "metadata": {
        "id": "oW94LF9lXcrl"
      }
    },
    {
      "cell_type": "code",
      "source": [
        "mode_comments = df['Comments'].mode()\n",
        "print(df['Comments'].fillna(mode_comments[0]))"
      ],
      "metadata": {
        "colab": {
          "base_uri": "https://localhost:8080/"
        },
        "id": "T4msdIxwUPJ9",
        "outputId": "3f703f7d-6349-4095-f92c-221833c72df8"
      },
      "execution_count": null,
      "outputs": [
        {
          "output_type": "stream",
          "name": "stdout",
          "text": [
            "0      Backed up at Bronte\n",
            "1      Backed up at Bronte\n",
            "2      Backed up at Bronte\n",
            "3      Backed up at Bronte\n",
            "4      Backed up at Bronte\n",
            "              ...         \n",
            "200    Backed up at Bronte\n",
            "201    Backed up at Bronte\n",
            "202    Backed up at Bronte\n",
            "203    Backed up at Bronte\n",
            "204    Backed up at Bronte\n",
            "Name: Comments, Length: 203, dtype: object\n"
          ]
        }
      ]
    },
    {
      "cell_type": "markdown",
      "source": [
        "# Arbitrary value imputation from values in column\n"
      ],
      "metadata": {
        "id": "WJ6UGMRqXmP1"
      }
    },
    {
      "cell_type": "code",
      "source": [
        "print(df['Comments'].fillna('Rain, rain, rain'))"
      ],
      "metadata": {
        "colab": {
          "base_uri": "https://localhost:8080/"
        },
        "id": "59jC_9jDV2a0",
        "outputId": "570f963d-5074-403e-f47f-ca8547439792"
      },
      "execution_count": null,
      "outputs": [
        {
          "output_type": "stream",
          "name": "stdout",
          "text": [
            "0      Rain, rain, rain\n",
            "1      Rain, rain, rain\n",
            "2      Rain, rain, rain\n",
            "3      Rain, rain, rain\n",
            "4      Rain, rain, rain\n",
            "             ...       \n",
            "200    Rain, rain, rain\n",
            "201    Rain, rain, rain\n",
            "202    Rain, rain, rain\n",
            "203    Rain, rain, rain\n",
            "204    Rain, rain, rain\n",
            "Name: Comments, Length: 203, dtype: object\n"
          ]
        }
      ]
    },
    {
      "cell_type": "markdown",
      "source": [
        "# Random Sample Imputation / Add a new Cateogory as missing"
      ],
      "metadata": {
        "id": "HHqS8arrX4yc"
      }
    },
    {
      "cell_type": "code",
      "source": [
        "print(df['Comments'].fillna('Missing'))"
      ],
      "metadata": {
        "colab": {
          "base_uri": "https://localhost:8080/"
        },
        "id": "JdDDR955YXdF",
        "outputId": "fa11ca39-7f2e-44e2-b698-4658eb48d99d"
      },
      "execution_count": null,
      "outputs": [
        {
          "output_type": "stream",
          "name": "stdout",
          "text": [
            "0      Missing\n",
            "1      Missing\n",
            "2      Missing\n",
            "3      Missing\n",
            "4      Missing\n",
            "        ...   \n",
            "200    Missing\n",
            "201    Missing\n",
            "202    Missing\n",
            "203    Missing\n",
            "204    Missing\n",
            "Name: Comments, Length: 203, dtype: object\n"
          ]
        }
      ]
    },
    {
      "cell_type": "code",
      "source": [
        "# fuelEconomy is numerical column\n",
        "# df['FuelEconomy']\n",
        "#compute the mean of Boolean mask (True evaluates as 1 and False as 0)\n",
        "na_variables = [ var for var in df.columns if df[var].isnull().mean() > 0 ]\n",
        "na_variables"
      ],
      "metadata": {
        "colab": {
          "base_uri": "https://localhost:8080/"
        },
        "id": "GtUX8tEjJH9_",
        "outputId": "326e4d8b-9918-452c-f6cb-d9d330a50468"
      },
      "execution_count": null,
      "outputs": [
        {
          "output_type": "execute_result",
          "data": {
            "text/plain": [
              "['FuelEconomy', 'Comments']"
            ]
          },
          "metadata": {},
          "execution_count": 15
        }
      ]
    },
    {
      "cell_type": "code",
      "source": [
        "# list comprehension to get all numerical variables\n",
        "num_variables = [ var for var in df.columns if len(df[var].unique()) > 10]\n",
        "num_variables"
      ],
      "metadata": {
        "colab": {
          "base_uri": "https://localhost:8080/"
        },
        "id": "AQ9DbX0JNkfI",
        "outputId": "5799a431-6b57-47e2-8a42-35bbf1091039"
      },
      "execution_count": null,
      "outputs": [
        {
          "output_type": "execute_result",
          "data": {
            "text/plain": [
              "['Date',\n",
              " 'StartTime',\n",
              " 'Distance',\n",
              " 'MaxSpeed',\n",
              " 'AvgSpeed',\n",
              " 'AvgMovingSpeed',\n",
              " 'FuelEconomy',\n",
              " 'TotalTime',\n",
              " 'MovingTime',\n",
              " 'Comments']"
            ]
          },
          "metadata": {},
          "execution_count": 16
        }
      ]
    },
    {
      "cell_type": "code",
      "source": [
        "from sklearn.linear_model import LinearRegression"
      ],
      "metadata": {
        "id": "0VVZoaYxOGMo"
      },
      "execution_count": null,
      "outputs": []
    },
    {
      "cell_type": "code",
      "source": [
        "linear_regressor = LinearRegression()  \n",
        "X = np.array(df['Distance']).reshape(-1, 1)\n",
        "y = np.array(df['TotalTime']).reshape(-1, 1)\n",
        "\n",
        "from sklearn.model_selection import train_test_split\n",
        "X_train, X_test, y_train, y_test = train_test_split(X, y, test_size = 0.25)\n",
        "  \n",
        "# Splitting the data into training and testing data\n",
        "regr = LinearRegression()\n",
        "  \n",
        "regr.fit(X_train, y_train)\n",
        "print(regr.score(X_test, y_test))"
      ],
      "metadata": {
        "colab": {
          "base_uri": "https://localhost:8080/"
        },
        "id": "as487IGbnDGG",
        "outputId": "1e132da3-1b49-4d65-cb4d-a323833407ea"
      },
      "execution_count": null,
      "outputs": [
        {
          "output_type": "stream",
          "name": "stdout",
          "text": [
            "0.10012320371123562\n"
          ]
        }
      ]
    },
    {
      "cell_type": "code",
      "source": [
        "y_pred = regr.predict(X_test)\n",
        "plt.scatter(X_test, y_test, color ='b')\n",
        "plt.plot(X_test, y_pred, color ='k')\n",
        "  \n",
        "plt.show()"
      ],
      "metadata": {
        "colab": {
          "base_uri": "https://localhost:8080/",
          "height": 430
        },
        "id": "o9mI77mmpmFh",
        "outputId": "ad032c0f-6998-4177-9623-9625567d6ee5"
      },
      "execution_count": null,
      "outputs": [
        {
          "output_type": "display_data",
          "data": {
            "text/plain": [
              "<Figure size 640x480 with 1 Axes>"
            ],
            "image/png": "[encoded data removed]"
          },
          "metadata": {}
        }
      ]
    },
    {
      "cell_type": "code",
      "source": [
        "df['AvgSpeed'].plot.density(color='green')\n",
        "plt.title('Density plot for Speeding')\n",
        "plt.show()"
      ],
      "metadata": {
        "colab": {
          "base_uri": "https://localhost:8080/",
          "height": 452
        },
        "id": "Csj36ZoGQkKp",
        "outputId": "cfbbd4d8-c85c-422b-8c33-25c84737389b"
      },
      "execution_count": null,
      "outputs": [
        {
          "output_type": "display_data",
          "data": {
            "text/plain": [
              "<Figure size 640x480 with 1 Axes>"
            ],
            "image/png": "[encoded data removed]"
          },
          "metadata": {}
        }
      ]
    },
    {
      "cell_type": "code",
      "source": [],
      "metadata": {
        "id": "on_5WoqVRCPb"
      },
      "execution_count": null,
      "outputs": []
    }
  ]
}